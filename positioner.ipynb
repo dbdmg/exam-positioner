{
 "cells": [
  {
   "cell_type": "code",
   "execution_count": 51,
   "metadata": {},
   "outputs": [],
   "source": [
    "from itertools import product\n",
    "from pathlib import Path\n",
    "from typing import Any, Dict, Optional, Tuple\n",
    "\n",
    "import numpy as np\n",
    "import polars as pl\n",
    "import yaml\n",
    "from xlsxwriter import Workbook\n",
    "import matplotlib.pyplot as plt\n",
    "import seaborn as sns"
   ]
  },
  {
   "cell_type": "code",
   "execution_count": 2,
   "metadata": {},
   "outputs": [],
   "source": [
    "def place_student(\n",
    "    room_dict: Dict[str, np.ndarray], student_id: int, room_name: Optional[str] = None\n",
    ") -> Tuple[int, int]:\n",
    "    if room_name is None:\n",
    "        room_name = [k for k, m in room_dict.items() if (m == 1).sum() > 0][0]\n",
    "    room_matrix = room_dict[room_name]\n",
    "    # Find first available sit\n",
    "    r, c = np.where(room_matrix == 1)\n",
    "    if len(r) == 0:\n",
    "        raise ValueError(\"No more sits available\")\n",
    "    room_matrix[r[0], c[0]] = student_id\n",
    "    return {\"room\": room_name, \"row\": r[0], \"col\": c[0]}"
   ]
  },
  {
   "cell_type": "code",
   "execution_count": 3,
   "metadata": {},
   "outputs": [],
   "source": [
    "def build_room_matrix(config: Dict[str, Any]) -> np.ndarray:\n",
    "    matrix = np.zeros((config[\"size\"][\"rows\"], config[\"size\"][\"cols\"]), dtype=np.int64)\n",
    "    for r, c in product(config[\"sits\"][\"rows\"], config[\"sits\"][\"cols\"]):\n",
    "        matrix[r, c] = 1\n",
    "    # Banned areas\n",
    "    for range in config[\"banned_sits\"]:\n",
    "        start = list(map(int, range[\"start\"].split(\":\")))\n",
    "        end = list(map(int, range[\"end\"].split(\":\")))\n",
    "        banned_range = (*start, *end)\n",
    "        matrix[\n",
    "            banned_range[0] : banned_range[2] + 1, banned_range[1] : banned_range[3] + 1\n",
    "        ] = -1\n",
    "    # Desk\n",
    "    start = list(map(int, config[\"desk\"][\"start\"].split(\":\")))\n",
    "    end = list(map(int, config[\"desk\"][\"end\"].split(\":\")))\n",
    "    matrix[start[0] : end[0] + 1, start[1] : end[1] + 1] = -2\n",
    "    return matrix"
   ]
  },
  {
   "cell_type": "code",
   "execution_count": 4,
   "metadata": {},
   "outputs": [],
   "source": [
    "FOLDER = Path(\"test\")\n",
    "ROOMS = [\"R3\"]\n",
    "NOPC_STUDENTS = []\n",
    "NOPC_ROOM = \"\"\n",
    "DSA_ROOM = \"\""
   ]
  },
  {
   "cell_type": "code",
   "execution_count": 5,
   "metadata": {},
   "outputs": [
    {
     "name": "stdout",
     "output_type": "stream",
     "text": [
      "NOPC: 0 DSA 0 on site: 76\n"
     ]
    }
   ],
   "source": [
    "# Read prenatati\n",
    "prenotati = pl.scan_csv(FOLDER / \"VISAP_Elenco_Studenti_*\").collect()\n",
    "if prenotati.is_duplicated().any():\n",
    "    print(\"Attenzione: studenti duplicati nella tabella\\n\")\n",
    "    prenotati = prenotati.unique()\n",
    "\n",
    "prenotati = prenotati.select(\"MATRICOLA\", \"COGNOME\", \"NOME\", \"DOCENTE\", \"NOTE\").sort(\n",
    "    \"COGNOME\"\n",
    ")\n",
    "# DSA students\n",
    "dsa = prenotati.filter(\n",
    "    pl.col(\"NOTE\").str.contains(\"Dsa\") | pl.col(\"NOTE\").str.contains(\"Tempo aggiuntivo\")\n",
    ").get_column(\"MATRICOLA\")\n",
    "\n",
    "on_site = (\n",
    "    prenotati.filter(\n",
    "        pl.col(\"NOTE\").str.contains(\"Esame online\").not_()\n",
    "        | pl.col(\"NOTE\").is_null()\n",
    "    )\n",
    "    .filter(pl.col(\"MATRICOLA\").is_in(dsa).not_())\n",
    "    .get_column(\"MATRICOLA\")\n",
    ")\n",
    "\n",
    "nopc = on_site.filter(on_site.is_in(NOPC_STUDENTS))\n",
    "on_site = on_site.filter(on_site.is_in(NOPC_STUDENTS).not_())\n",
    "\n",
    "print(\"NOPC:\", len(nopc), \"DSA\", len(dsa), \"on site:\", len(on_site))"
   ]
  },
  {
   "cell_type": "code",
   "execution_count": 14,
   "metadata": {},
   "outputs": [
    {
     "name": "stdout",
     "output_type": "stream",
     "text": [
      "Unassigned students: 22\n"
     ]
    }
   ],
   "source": [
    "# Load rooms config\n",
    "rooms = {}\n",
    "for r in ROOMS:\n",
    "    with open(f\"room_formats/{r}.yaml\", \"r\") as f:\n",
    "        rooms[r] = build_room_matrix(yaml.safe_load(f))\n",
    "\n",
    "positions = pl.concat([dsa, nopc, on_site]).to_frame()  # type: pl.DataFrame\n",
    "\n",
    "return_struct = pl.Struct([pl.Field(\"room\", pl.Utf8), pl.Field(\"row\", pl.Int64), pl.Field(\"col\", pl.Int64)])\n",
    "\n",
    "dsa_positions = dsa.to_frame(\"MATRICOLA\").with_columns(\n",
    "    position=dsa.map_elements(lambda x: place_student(rooms, x, room_name=DSA_ROOM), return_dtype=return_struct)\n",
    ")\n",
    "\n",
    "nopc_positions = nopc.to_frame(\"MATRICOLA\").with_columns(\n",
    "    position=nopc.map_elements(lambda x: {\"room\": NOPC_ROOM, \"row\": 0, \"col\": 0}, return_dtype=return_struct)\n",
    ")\n",
    "\n",
    "on_site_postions = on_site.to_frame(\"MATRICOLA\").with_columns(\n",
    "    position=on_site.map_elements(lambda x: place_student(rooms, x), return_dtype=return_struct)\n",
    ")\n",
    "\n",
    "assigned_positions = pl.concat([dsa_positions, nopc_positions, on_site_postions])\n",
    "positions = positions.join(assigned_positions, on=\"MATRICOLA\", how=\"left\")\n",
    "positions = positions.unnest(\"position\")\n",
    "\n",
    "print(\"Unassigned students:\", len(positions.filter(pl.col(\"room\").is_null())))"
   ]
  },
  {
   "cell_type": "code",
   "execution_count": 16,
   "metadata": {},
   "outputs": [],
   "source": [
    "with Workbook(\"disposizioni.xlsx\") as dw, Workbook(\"prenotazioni.xlsx\") as pw:\n",
    "    for k, v in rooms.items():\n",
    "        pl.DataFrame(v).write_excel(dw, worksheet=f\"Aula_{k}\")\n",
    "        students_in_room = positions.filter(pl.col(\"room\") == k)\n",
    "        students_in_room.join(prenotati, on=\"MATRICOLA\", how=\"left\").write_excel(\n",
    "            pw, worksheet=f\"Aula_{k}\"\n",
    "        )\n",
    "\n",
    "    positions.filter(pl.col(\"room\") == NOPC_ROOM).join(\n",
    "        prenotati, on=\"MATRICOLA\", how=\"left\"\n",
    "    ).write_excel(pw, worksheet=f\"Aula_{NOPC_ROOM}\")"
   ]
  },
  {
   "cell_type": "code",
   "execution_count": null,
   "metadata": {},
   "outputs": [],
   "source": [
    "for k, v in rooms.items():\n",
    "    ann = v.astype(str)\n",
    "    for o, s in zip([-2, -1, 0], [\"C\", \"X\", \"\"]):\n",
    "        ann[v == o] = s\n",
    "    sns.heatmap(v, annot=ann, fmt=\"s\", cmap=[\"white\", \"grey\"], linecolor=\"black\", linewidths=0.5, cbar=False)\n",
    "    plt.title(f\"Aula {k}\")\n",
    "    plt.savefig(f\"{k}.png\", dpi=300)"
   ]
  }
 ],
 "metadata": {
  "kernelspec": {
   "display_name": "Python 3",
   "language": "python",
   "name": "python3"
  },
  "language_info": {
   "codemirror_mode": {
    "name": "ipython",
    "version": 3
   },
   "file_extension": ".py",
   "mimetype": "text/x-python",
   "name": "python",
   "nbconvert_exporter": "python",
   "pygments_lexer": "ipython3",
   "version": "3.12.1"
  }
 },
 "nbformat": 4,
 "nbformat_minor": 2
}
